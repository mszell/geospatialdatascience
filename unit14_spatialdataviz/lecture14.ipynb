{
 "cells": [
  {
   "attachments": {},
   "cell_type": "markdown",
   "id": "8b25822c-c828-4c29-9c27-28dcc8ff8279",
   "metadata": {
    "tags": []
   },
   "source": [
    "<div class=\"frontmatter text-center\">\n",
    "<h1>Geospatial Data Science</h1>\n",
    "<h2>Lecture 13: Big Spatial Data</h2>\n",
    "<h3>IT University of Copenhagen, Spring 2023</h3>\n",
    "<h3>Instructor: Ane Rahbek Vierø</h3>\n",
    "</div>\n",
    "\n",
    "This notebook was adapted from:\n",
    "* MISSING\n",
    "\n",
    "## WHAT THE NOTEBOOK CONTAINS\n",
    "\n",
    "## Spatial Indexes with GeoPandas\n"
   ]
  },
  {
   "cell_type": "code",
   "execution_count": null,
   "id": "890a8d9f",
   "metadata": {
    "vscode": {
     "languageId": "plaintext"
    }
   },
   "outputs": [],
   "source": []
  },
  {
   "attachments": {},
   "cell_type": "markdown",
   "id": "0e364ba7",
   "metadata": {},
   "source": [
    "## Efficient GeoPandas"
   ]
  },
  {
   "cell_type": "code",
   "execution_count": null,
   "id": "a4c744a8",
   "metadata": {
    "vscode": {
     "languageId": "plaintext"
    }
   },
   "outputs": [],
   "source": []
  },
  {
   "attachments": {},
   "cell_type": "markdown",
   "id": "d5496f9e",
   "metadata": {},
   "source": [
    "## File Formats for Large Datasets"
   ]
  },
  {
   "cell_type": "code",
   "execution_count": null,
   "id": "5390b1ac",
   "metadata": {
    "vscode": {
     "languageId": "plaintext"
    }
   },
   "outputs": [],
   "source": []
  },
  {
   "attachments": {},
   "cell_type": "markdown",
   "id": "0fe8226b",
   "metadata": {},
   "source": [
    "## H3"
   ]
  },
  {
   "cell_type": "markdown",
   "id": "e1cc1633",
   "metadata": {},
   "source": []
  }
 ],
 "metadata": {
  "kernelspec": {
   "display_name": "Python 3 (ipykernel)",
   "language": "python",
   "name": "python3"
  },
  "language_info": {
   "codemirror_mode": {
    "name": "ipython",
    "version": 3
   },
   "file_extension": ".py",
   "mimetype": "text/x-python",
   "name": "python",
   "nbconvert_exporter": "python",
   "pygments_lexer": "ipython3",
   "version": "3.9.15"
  }
 },
 "nbformat": 4,
 "nbformat_minor": 5
}
